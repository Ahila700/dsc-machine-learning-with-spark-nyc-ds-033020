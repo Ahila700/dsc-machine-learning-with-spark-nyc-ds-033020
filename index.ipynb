{
 "cells": [
  {
   "cell_type": "markdown",
   "metadata": {},
   "source": [
    "# Machine Learning with Spark\n",
    "\n",
    "## Introduction\n",
    "\n",
    "You've now explored how to perform operations on Spark RDDs for simple Map-Reduce tasks. Luckily, there are far more advanced use cases for spark, and many of the are found in the ml library, which we are going to explore in this lesson.\n",
    "\n",
    "\n",
    "## Objectives\n",
    "* Describe the use case for Machine Learning with Spark\n",
    "* Load and manipulate data with Spark DataFrames\n",
    "* Train a machine learning model with Spark\n",
    "\n",
    "\n",
    "## A Tale of Two Libraries\n",
    "\n",
    "If you look at the pyspark documentation, you'll notice that there are two different libraries for machine learning [mllib](https://spark.apache.org/docs/latest/api/python/pyspark.mllib.html) and [ml](https://spark.apache.org/docs/latest/api/python/pyspark.ml.html). These libraries are extremely similar to one another, the only difference being that the mllib library is built upon the RDDs you just practiced using; whereas, the ml library is built on higher level Spark DataFrames, which has methods and attributes similar to pandas. It's important to note that these libraries are much younger than pandas and many of the kinks are still being worked out. \n",
    "\n",
    "## Spark DataFrames\n",
    "\n",
    "In the previous lessons, you've been introduced to SparkContext as the primary way to connect with a Spark Application. Here, we will be using SparkSession, which is from the [sql](https://spark.apache.org/docs/latest/api/python/pyspark.sql.html) component of pyspark. The SparkSession acts the same way as SparkContext; it a bridge between pyhon and the Spark Application. It's just built on top of the Spark SQL API, a higher-level API than RDDs. In fact, a SparkContext object is spun up around which the SparkSession object is wrapped. Let's go through the process of manipulating some data here. For this example, we're going to be using the [Forest Fire dataset](https://archive.ics.uci.edu/ml/datasets/Forest+Fires) from UCI, which contains data about the area burned by wildfires in the Northeast region of Portugal in relation to numerous other factors.\n",
    "\n",
    "To begin with, let's create a SparkSession so that we can spin up our spark application.\n"
   ]
  },
  {
   "cell_type": "code",
   "execution_count": 1,
   "metadata": {},
   "outputs": [],
   "source": [
    "# importing the necessary libraries\n",
    "from pyspark import SparkContext\n",
    "from pyspark.sql import SparkSession\n",
    "sc = SparkContext('local[*]')\n",
    "spark = SparkSession(sc)"
   ]
  },
  {
   "cell_type": "markdown",
   "metadata": {},
   "source": [
    "An alternate, one liner way to create a SparkSession is below"
   ]
  },
  {
   "cell_type": "code",
   "execution_count": 2,
   "metadata": {},
   "outputs": [],
   "source": [
    "# spark = SparkSession.builder.master(\"local\").getOrCreate()"
   ]
  },
  {
   "cell_type": "markdown",
   "metadata": {},
   "source": [
    "Now, we'll load the read in our data into the pyspark DataFrame object."
   ]
  },
  {
   "cell_type": "code",
   "execution_count": 3,
   "metadata": {},
   "outputs": [
    {
     "data": {
      "text/plain": [
       "pyspark.sql.dataframe.DataFrame"
      ]
     },
     "execution_count": 3,
     "metadata": {},
     "output_type": "execute_result"
    }
   ],
   "source": [
    "## reading in pyspark df\n",
    "spark_df = spark.read.csv('./forestfires.csv',header='true',inferSchema='true')\n",
    "\n",
    "## observing the datatype of df\n",
    "type(spark_df)"
   ]
  },
  {
   "cell_type": "markdown",
   "metadata": {},
   "source": [
    "You'll notice that some of the methods are extremely similar or the same as those found within Pandas."
   ]
  },
  {
   "cell_type": "code",
   "execution_count": 4,
   "metadata": {},
   "outputs": [
    {
     "data": {
      "text/plain": [
       "Row(X=7, Y=5, month='mar', day='fri', FFMC=86.2, DMC=26.2, DC=94.3, ISI=5.1, temp=8.2, RH=51, wind=6.7, rain=0.0, area=0.0)"
      ]
     },
     "execution_count": 4,
     "metadata": {},
     "output_type": "execute_result"
    }
   ],
   "source": [
    "spark_df.head()"
   ]
  },
  {
   "cell_type": "code",
   "execution_count": 5,
   "metadata": {},
   "outputs": [
    {
     "data": {
      "text/plain": [
       "['X',\n",
       " 'Y',\n",
       " 'month',\n",
       " 'day',\n",
       " 'FFMC',\n",
       " 'DMC',\n",
       " 'DC',\n",
       " 'ISI',\n",
       " 'temp',\n",
       " 'RH',\n",
       " 'wind',\n",
       " 'rain',\n",
       " 'area']"
      ]
     },
     "execution_count": 5,
     "metadata": {},
     "output_type": "execute_result"
    }
   ],
   "source": [
    "spark_df.columns"
   ]
  },
  {
   "cell_type": "markdown",
   "metadata": {},
   "source": [
    "Selecting multiple columns is the same"
   ]
  },
  {
   "cell_type": "code",
   "execution_count": 6,
   "metadata": {},
   "outputs": [
    {
     "data": {
      "text/plain": [
       "DataFrame[month: string, day: string, rain: double]"
      ]
     },
     "execution_count": 6,
     "metadata": {},
     "output_type": "execute_result"
    }
   ],
   "source": [
    "spark_df[['month','day','rain']]"
   ]
  },
  {
   "cell_type": "markdown",
   "metadata": {},
   "source": [
    "But selecting one column is different. If you want to mantain the methods of a spark DataFrame, you should use the `select` method. If you want to just select the column, you can use the same method you would use in pandas (this is primarily what you would use if you're attempting to create a Boolean mask).\n"
   ]
  },
  {
   "cell_type": "code",
   "execution_count": 7,
   "metadata": {
    "scrolled": true
   },
   "outputs": [],
   "source": [
    "d = spark_df.select('rain')"
   ]
  },
  {
   "cell_type": "code",
   "execution_count": 8,
   "metadata": {},
   "outputs": [
    {
     "data": {
      "text/plain": [
       "Column<b'rain'>"
      ]
     },
     "execution_count": 8,
     "metadata": {},
     "output_type": "execute_result"
    }
   ],
   "source": [
    "spark_df['rain']"
   ]
  },
  {
   "cell_type": "markdown",
   "metadata": {},
   "source": [
    "Let's take a look at all of our data types in this dataframe"
   ]
  },
  {
   "cell_type": "code",
   "execution_count": 9,
   "metadata": {},
   "outputs": [
    {
     "data": {
      "text/plain": [
       "[('X', 'int'),\n",
       " ('Y', 'int'),\n",
       " ('month', 'string'),\n",
       " ('day', 'string'),\n",
       " ('FFMC', 'double'),\n",
       " ('DMC', 'double'),\n",
       " ('DC', 'double'),\n",
       " ('ISI', 'double'),\n",
       " ('temp', 'double'),\n",
       " ('RH', 'int'),\n",
       " ('wind', 'double'),\n",
       " ('rain', 'double'),\n",
       " ('area', 'double')]"
      ]
     },
     "execution_count": 9,
     "metadata": {},
     "output_type": "execute_result"
    }
   ],
   "source": [
    "spark_df.dtypes"
   ]
  },
  {
   "cell_type": "markdown",
   "metadata": {},
   "source": [
    "## Aggregations with our DataFrame"
   ]
  },
  {
   "cell_type": "markdown",
   "metadata": {},
   "source": [
    "Let's investigate to see if there is any correlation between what month it is and the area of fire."
   ]
  },
  {
   "cell_type": "code",
   "execution_count": 10,
   "metadata": {},
   "outputs": [
    {
     "data": {
      "text/plain": [
       "DataFrame[month: string, avg(area): double]"
      ]
     },
     "execution_count": 10,
     "metadata": {},
     "output_type": "execute_result"
    }
   ],
   "source": [
    "spark_df_months = spark_df.groupBy('month').agg({'area':'mean'})\n",
    "spark_df_months"
   ]
  },
  {
   "cell_type": "markdown",
   "metadata": {},
   "source": [
    "Notice how the grouped DataFrame is not returned when you call the aggregation method. Remember, this is still Spark! The transformations and actions are kept separate so that it is easier to manage large quantities of data. You can perform the transformation by making a `collect` method call."
   ]
  },
  {
   "cell_type": "code",
   "execution_count": 11,
   "metadata": {},
   "outputs": [
    {
     "data": {
      "text/plain": [
       "[Row(month='jun', avg(area)=5.841176470588234),\n",
       " Row(month='aug', avg(area)=12.489076086956521),\n",
       " Row(month='may', avg(area)=19.24),\n",
       " Row(month='feb', avg(area)=6.275),\n",
       " Row(month='sep', avg(area)=17.942616279069753),\n",
       " Row(month='mar', avg(area)=4.356666666666667),\n",
       " Row(month='oct', avg(area)=6.638),\n",
       " Row(month='jul', avg(area)=14.3696875),\n",
       " Row(month='nov', avg(area)=0.0),\n",
       " Row(month='apr', avg(area)=8.891111111111112),\n",
       " Row(month='dec', avg(area)=13.33),\n",
       " Row(month='jan', avg(area)=0.0)]"
      ]
     },
     "execution_count": 11,
     "metadata": {},
     "output_type": "execute_result"
    }
   ],
   "source": [
    "spark_df_months.collect()"
   ]
  },
  {
   "cell_type": "markdown",
   "metadata": {},
   "source": [
    "As you can see, there seem to be larger area fires during what would be considered the summer months in Portugal. On your own, practice more aggregations and manipualtions that you might be able to perform on this dataset. Now, we'll move on to using the machine learning applications of pyspark. "
   ]
  },
  {
   "cell_type": "markdown",
   "metadata": {},
   "source": [
    "## Boolean Masking\n",
    "Boolean masking also works with pyspark DataFrames just like Pandas DataFrames, the only difference being that the `filter` method is used in pyspark. To try this out, let's compare the amount the fire in those areas with absolutely no rain to those areas that had rain."
   ]
  },
  {
   "cell_type": "code",
   "execution_count": 12,
   "metadata": {},
   "outputs": [],
   "source": [
    "no_rain = spark_df.filter(spark_df['rain'] == 0.0)\n",
    "some_rain = spark_df.filter(spark_df['rain'] > 0.0)"
   ]
  },
  {
   "cell_type": "markdown",
   "metadata": {},
   "source": [
    "Now, to perform calculations to find the mean of a column, we'll have to import functions from `pyspark.sql`. As always, to read more about them, check out the [documentation](https://spark.apache.org/docs/latest/api/python/pyspark.sql.html#module-pyspark.sql.functions)."
   ]
  },
  {
   "cell_type": "code",
   "execution_count": 13,
   "metadata": {},
   "outputs": [
    {
     "name": "stdout",
     "output_type": "stream",
     "text": [
      "+------------------+\n",
      "|         avg(area)|\n",
      "+------------------+\n",
      "|13.023693516699408|\n",
      "+------------------+\n",
      "\n",
      "no rain fire area:  None \n",
      "\n",
      "+---------+\n",
      "|avg(area)|\n",
      "+---------+\n",
      "|  1.62375|\n",
      "+---------+\n",
      "\n",
      "some rain fire area:  None \n",
      "\n"
     ]
    }
   ],
   "source": [
    "from pyspark.sql.functions import mean\n",
    "\n",
    "print('no rain fire area: ',no_rain.select(mean('area')).show(),'\\n')\n",
    "\n",
    "print('some rain fire area: ',some_rain.select(mean('area')).show(),'\\n')"
   ]
  },
  {
   "cell_type": "markdown",
   "metadata": {},
   "source": [
    "Yes there's definitely something there! Unsurprisingly, rain plays in a big factor in the spread of wildfire.\n",
    "\n",
    "Let's try and get obtain data from only the summer months in Portugal (June, July, and August). We can also do the same for the winter months in Portugal (December, January, February)."
   ]
  },
  {
   "cell_type": "code",
   "execution_count": 14,
   "metadata": {},
   "outputs": [
    {
     "name": "stdout",
     "output_type": "stream",
     "text": [
      "+------------------+\n",
      "|         avg(area)|\n",
      "+------------------+\n",
      "|12.262317596566525|\n",
      "+------------------+\n",
      "\n",
      "summer months fire area None\n",
      "+-----------------+\n",
      "|        avg(area)|\n",
      "+-----------------+\n",
      "|7.918387096774193|\n",
      "+-----------------+\n",
      "\n",
      "winter months fire areas None\n"
     ]
    }
   ],
   "source": [
    "summer_months = spark_df.filter(spark_df['month'].isin(['jun','jul','aug']))\n",
    "winter_months = spark_df.filter(spark_df['month'].isin(['dec','jan','feb']))\n",
    "\n",
    "print('summer months fire area', summer_months.select(mean('area')).show())\n",
    "print('winter months fire areas', winter_months.select(mean('area')).show())"
   ]
  },
  {
   "cell_type": "markdown",
   "metadata": {},
   "source": [
    "## Machine Learning\n",
    "\n",
    "Now that we've performed some data manipulation and aggregation, lets get to the really cool stuff, machine learning! Pyspark states that they've used sklearn as an inspiration for their implementation of a machine learning library. As a result, many of the methods and functionalities look similar, but there are some crucial distinctions. There are three main concepts found within the ML library:\n",
    "\n",
    "`Transformer`: An algorithm that transforms one pyspark DataFrame into another DataFrame. \n",
    "\n",
    "`Estimator`: An algorithm that can be fit onto a pyspark DataFrame that can then be used as a Transformer. \n",
    "\n",
    "`Pipeline`: A pipeline very similar to an sklearn pipeline that chains together different actions.\n",
    "\n",
    "The reasoning behind this separation of the fitting and transforming step is because sklearn is lazily evaluated, so the 'fitting' of a model does not actually take place until the Transformation action is called. Let's examine what this actually looks like by performing a regression on the Forest Fire Dataset. To start off with, we'll import the necessary libraries for our tasks."
   ]
  },
  {
   "cell_type": "code",
   "execution_count": 15,
   "metadata": {},
   "outputs": [],
   "source": [
    "from pyspark.ml.regression import RandomForestRegressor\n",
    "from pyspark.ml import feature\n",
    "from pyspark.ml.feature import StringIndexer, VectorAssembler, OneHotEncoderEstimator"
   ]
  },
  {
   "cell_type": "markdown",
   "metadata": {},
   "source": [
    "Looking at our data, one can see that all the categories are numerical except for day and month. We saw some correlation between the month and area burned in a fire, so we will include that in our model. The day of the week, however, is highly unlikely to have any effect on fire, so we will drop it from the DataFrame."
   ]
  },
  {
   "cell_type": "code",
   "execution_count": 16,
   "metadata": {},
   "outputs": [
    {
     "data": {
      "text/plain": [
       "Row(X=7, Y=5, month='mar', FFMC=86.2, DMC=26.2, DC=94.3, ISI=5.1, temp=8.2, RH=51, wind=6.7, rain=0.0, area=0.0)"
      ]
     },
     "execution_count": 16,
     "metadata": {},
     "output_type": "execute_result"
    }
   ],
   "source": [
    "fire_df = spark_df.drop('day')\n",
    "fire_df.head()"
   ]
  },
  {
   "cell_type": "markdown",
   "metadata": {},
   "source": [
    "In order for us to run our model, we need to turn the months variable into a dummy variable. In `ml` this is a 2-step process that first requires turning the categorical variable into a numerical index (`StringIndexer`). Only after the variable is an int can pyspark create dummy variable columns related to each category (`OneHotEncoderEstimator`). You key parameters you when using these `ml` estimators are: inputCol (the column you want to change) and outputCol (where you will store the changed column). Here it is in action"
   ]
  },
  {
   "cell_type": "code",
   "execution_count": 17,
   "metadata": {},
   "outputs": [],
   "source": [
    "si = StringIndexer(inputCol='month',outputCol='month_num')\n",
    "model = si.fit(fire_df)\n",
    "new_df = model.transform(fire_df)"
   ]
  },
  {
   "cell_type": "markdown",
   "metadata": {},
   "source": [
    "Note the small, but critical distinction between sklearn's implementation of a transformer and pyspark's implementation. sklearn is more object oriented and spark is more functionally based programming."
   ]
  },
  {
   "cell_type": "code",
   "execution_count": 18,
   "metadata": {},
   "outputs": [
    {
     "data": {
      "text/plain": [
       "pyspark.ml.feature.StringIndexer"
      ]
     },
     "execution_count": 18,
     "metadata": {},
     "output_type": "execute_result"
    }
   ],
   "source": [
    "## this is an estimator (an untrained transformer)\n",
    "type(si)"
   ]
  },
  {
   "cell_type": "code",
   "execution_count": 19,
   "metadata": {},
   "outputs": [
    {
     "data": {
      "text/plain": [
       "pyspark.ml.feature.StringIndexerModel"
      ]
     },
     "execution_count": 19,
     "metadata": {},
     "output_type": "execute_result"
    }
   ],
   "source": [
    "## this is a transformer (a trained transformer)\n",
    "type(model)"
   ]
  },
  {
   "cell_type": "code",
   "execution_count": 20,
   "metadata": {},
   "outputs": [
    {
     "data": {
      "text/plain": [
       "['aug',\n",
       " 'sep',\n",
       " 'mar',\n",
       " 'jul',\n",
       " 'feb',\n",
       " 'jun',\n",
       " 'oct',\n",
       " 'apr',\n",
       " 'dec',\n",
       " 'jan',\n",
       " 'may',\n",
       " 'nov']"
      ]
     },
     "execution_count": 20,
     "metadata": {},
     "output_type": "execute_result"
    }
   ],
   "source": [
    "model.labels"
   ]
  },
  {
   "cell_type": "code",
   "execution_count": 21,
   "metadata": {},
   "outputs": [
    {
     "data": {
      "text/plain": [
       "[Row(X=7, Y=5, month='mar', FFMC=86.2, DMC=26.2, DC=94.3, ISI=5.1, temp=8.2, RH=51, wind=6.7, rain=0.0, area=0.0, month_num=2.0),\n",
       " Row(X=7, Y=4, month='oct', FFMC=90.6, DMC=35.4, DC=669.1, ISI=6.7, temp=18.0, RH=33, wind=0.9, rain=0.0, area=0.0, month_num=6.0),\n",
       " Row(X=7, Y=4, month='oct', FFMC=90.6, DMC=43.7, DC=686.9, ISI=6.7, temp=14.6, RH=33, wind=1.3, rain=0.0, area=0.0, month_num=6.0),\n",
       " Row(X=8, Y=6, month='mar', FFMC=91.7, DMC=33.3, DC=77.5, ISI=9.0, temp=8.3, RH=97, wind=4.0, rain=0.2, area=0.0, month_num=2.0)]"
      ]
     },
     "execution_count": 21,
     "metadata": {},
     "output_type": "execute_result"
    }
   ],
   "source": [
    "new_df.head(4)"
   ]
  },
  {
   "cell_type": "code",
   "execution_count": 22,
   "metadata": {},
   "outputs": [
    {
     "data": {
      "text/plain": [
       "Row(X=7, Y=5, month='mar', FFMC=86.2, DMC=26.2, DC=94.3, ISI=5.1, temp=8.2, RH=51, wind=6.7, rain=0.0, area=0.0, month_num=2.0)"
      ]
     },
     "execution_count": 22,
     "metadata": {},
     "output_type": "execute_result"
    }
   ],
   "source": [
    "#\n",
    "# new_df = new_df.drop('month')\n",
    "new_df.head()"
   ]
  },
  {
   "cell_type": "markdown",
   "metadata": {},
   "source": [
    "As you can see, we have created a new column called \"month_num\" that represents the month by a number. Now that we have performed this step, we can use Spark's version of OneHotEncoder. Let's make sure we have an accurate representation of the months."
   ]
  },
  {
   "cell_type": "code",
   "execution_count": 23,
   "metadata": {},
   "outputs": [
    {
     "data": {
      "text/plain": [
       "[Row(month_num=8.0),\n",
       " Row(month_num=0.0),\n",
       " Row(month_num=7.0),\n",
       " Row(month_num=1.0),\n",
       " Row(month_num=4.0),\n",
       " Row(month_num=11.0),\n",
       " Row(month_num=3.0),\n",
       " Row(month_num=2.0),\n",
       " Row(month_num=10.0),\n",
       " Row(month_num=6.0),\n",
       " Row(month_num=5.0),\n",
       " Row(month_num=9.0)]"
      ]
     },
     "execution_count": 23,
     "metadata": {},
     "output_type": "execute_result"
    }
   ],
   "source": [
    "new_df.select('month_num').distinct().collect()"
   ]
  },
  {
   "cell_type": "code",
   "execution_count": 24,
   "metadata": {},
   "outputs": [
    {
     "data": {
      "text/plain": [
       "Row(X=7, Y=5, month='mar', FFMC=86.2, DMC=26.2, DC=94.3, ISI=5.1, temp=8.2, RH=51, wind=6.7, rain=0.0, area=0.0, month_num=2.0, month_vec=SparseVector(11, {2: 1.0}))"
      ]
     },
     "execution_count": 24,
     "metadata": {},
     "output_type": "execute_result"
    }
   ],
   "source": [
    "## fitting and transforming the OneHotEncoder\n",
    "ohe = feature.OneHotEncoderEstimator(inputCols=['month_num'],outputCols=['month_vec'],dropLast=True)\n",
    "one_hot_encoded = ohe.fit(new_df).transform(new_df)\n",
    "one_hot_encoded.head()"
   ]
  },
  {
   "cell_type": "markdown",
   "metadata": {},
   "source": [
    "Great, we now have a OneHotEncoded sparse vector in the month_vec column! Because spark is optimized for big data, sparse vectors are used rather than entirely new columns for dummy variables because it is more space efficient. You can see in this first row of the data frame:  \n",
    "`month_vec=SparseVector(11, {2: 1.0})` this indicates that we have a sparse vector of size 11 (because of the parameter `dropLast = True` in OneHotEncoderEstimator) and this particular datapoint is the 2nd index of our month labels (march, based off the labels in the `model` StringEstimator transformer)  \n",
    "\n",
    "The final requirement for all machine learning models in pyspark is to put all of the features of your model into one Sparse Vector. This is once again for efficiency sake. Here, we are doing that with the `VectorAssembler` estimator."
   ]
  },
  {
   "cell_type": "code",
   "execution_count": 25,
   "metadata": {},
   "outputs": [],
   "source": [
    "features = ['X',\n",
    " 'Y',\n",
    " 'FFMC',\n",
    " 'DMC',\n",
    " 'DC',\n",
    " 'ISI',\n",
    " 'temp',\n",
    " 'RH',\n",
    " 'wind',\n",
    " 'rain',\n",
    " 'month_vec']\n",
    "\n",
    "target = 'area'\n",
    "\n",
    "vector = VectorAssembler(inputCols=features,outputCol='features')\n",
    "vectorized_df = vector.transform(one_hot_encoded)"
   ]
  },
  {
   "cell_type": "code",
   "execution_count": 26,
   "metadata": {},
   "outputs": [
    {
     "data": {
      "text/plain": [
       "Row(X=7, Y=5, month='mar', FFMC=86.2, DMC=26.2, DC=94.3, ISI=5.1, temp=8.2, RH=51, wind=6.7, rain=0.0, area=0.0, month_num=2.0, month_vec=SparseVector(11, {2: 1.0}), features=SparseVector(21, {0: 7.0, 1: 5.0, 2: 86.2, 3: 26.2, 4: 94.3, 5: 5.1, 6: 8.2, 7: 51.0, 8: 6.7, 12: 1.0}))"
      ]
     },
     "execution_count": 26,
     "metadata": {},
     "output_type": "execute_result"
    }
   ],
   "source": [
    "vectorized_df.head()"
   ]
  },
  {
   "cell_type": "markdown",
   "metadata": {},
   "source": [
    "Great! We now have our data in a format that seems acceptable for the last step. Now it's time for us to actually fit our model to data! Let's try and fit a Random Forest Regression model our data. Although there are still a bunch of other features in the DataFrame, it doesn't matter for the machine learning model API. All that needs to be specified are the names of the features column and the label column. Let's fit use Random Forest Regression to fit the model here."
   ]
  },
  {
   "cell_type": "code",
   "execution_count": 27,
   "metadata": {},
   "outputs": [],
   "source": [
    "## instantiating and fitting the model\n",
    "rf_model = RandomForestRegressor(featuresCol='features',labelCol='area',predictionCol=\"prediction\").fit(vectorized_df)"
   ]
  },
  {
   "cell_type": "code",
   "execution_count": 28,
   "metadata": {},
   "outputs": [
    {
     "data": {
      "text/plain": [
       "SparseVector(21, {0: 0.113, 1: 0.0684, 2: 0.1352, 3: 0.067, 4: 0.1853, 5: 0.0664, 6: 0.1061, 7: 0.0982, 8: 0.0913, 9: 0.0, 10: 0.0291, 11: 0.0082, 12: 0.0, 13: 0.0313, 14: 0.0001, 15: 0.0001, 16: 0.0, 17: 0.0, 18: 0.0001, 20: 0.0001})"
      ]
     },
     "execution_count": 28,
     "metadata": {},
     "output_type": "execute_result"
    }
   ],
   "source": [
    "rf_model.featureImportances"
   ]
  },
  {
   "cell_type": "code",
   "execution_count": 29,
   "metadata": {},
   "outputs": [
    {
     "data": {
      "text/plain": [
       "[Row(area=0.0, prediction=6.5717014062646255),\n",
       " Row(area=0.0, prediction=6.949198729352334),\n",
       " Row(area=0.0, prediction=6.150849710460925),\n",
       " Row(area=0.0, prediction=6.411877842228333),\n",
       " Row(area=0.0, prediction=10.033338730862948),\n",
       " Row(area=0.0, prediction=12.908861643565777),\n",
       " Row(area=0.0, prediction=42.5416935982501),\n",
       " Row(area=0.0, prediction=6.956267310579975),\n",
       " Row(area=0.0, prediction=7.337916350955155),\n",
       " Row(area=0.0, prediction=7.0016239464836705)]"
      ]
     },
     "execution_count": 29,
     "metadata": {},
     "output_type": "execute_result"
    }
   ],
   "source": [
    "## generating predictions\n",
    "predictions = rf_model.transform(vectorized_df).select(\"area\",\"prediction\")\n",
    "predictions.head(10)"
   ]
  },
  {
   "cell_type": "markdown",
   "metadata": {},
   "source": [
    "Now we can evaluate how well the model performed using `RegressionEvaluator`."
   ]
  },
  {
   "cell_type": "code",
   "execution_count": 30,
   "metadata": {},
   "outputs": [],
   "source": [
    "from pyspark.ml.evaluation import RegressionEvaluator\n",
    "evaluator = RegressionEvaluator(predictionCol='prediction', labelCol='area')"
   ]
  },
  {
   "cell_type": "code",
   "execution_count": 31,
   "metadata": {},
   "outputs": [
    {
     "data": {
      "text/plain": [
       "0.7324707925897679"
      ]
     },
     "execution_count": 31,
     "metadata": {},
     "output_type": "execute_result"
    }
   ],
   "source": [
    "## evaluating r^2\n",
    "evaluator.evaluate(predictions,{evaluator.metricName:\"r2\"})"
   ]
  },
  {
   "cell_type": "code",
   "execution_count": 32,
   "metadata": {},
   "outputs": [
    {
     "data": {
      "text/plain": [
       "13.57062828178921"
      ]
     },
     "execution_count": 32,
     "metadata": {},
     "output_type": "execute_result"
    }
   ],
   "source": [
    "## evaluating mean absolute error\n",
    "evaluator.evaluate(predictions,{evaluator.metricName:\"mae\"})"
   ]
  },
  {
   "cell_type": "markdown",
   "metadata": {},
   "source": [
    "## Putting it all in a Pipeline\n",
    "\n",
    "We just performed a whole lot of transformations to our data. Let's take a look at all the estimators we used to create this model:\n",
    "\n",
    "* StringIndexer\n",
    "* OneHotEnconderEstimator\n",
    "* VectorAssembler\n",
    "* RandomForestRegressor\n",
    "\n",
    "Once we've fit our model in the Pipeline, we're then going to want to evaluate it to determine how well it performs. We can do this with:\n",
    "\n",
    "* RegressionEvaluator\n",
    "\n",
    "\n",
    "We can streamline all of these transformations to make it all much more efficient by chaining them together in a pipeline. The Pipeline object expects a list of the estimators prior set to the parameter `stages`."
   ]
  },
  {
   "cell_type": "code",
   "execution_count": 33,
   "metadata": {},
   "outputs": [],
   "source": [
    "# importing relevant libraries\n",
    "from pyspark.ml.tuning import ParamGridBuilder, TrainValidationSplit, CrossValidator\n",
    "from pyspark.ml import Pipeline"
   ]
  },
  {
   "cell_type": "code",
   "execution_count": 34,
   "metadata": {},
   "outputs": [],
   "source": [
    "## instantiating all necessary estimator objects\n",
    "\n",
    "string_indexer = StringIndexer(inputCol='month',outputCol='month_num',handleInvalid='keep')\n",
    "one_hot_encoder = OneHotEncoderEstimator(inputCols=['month_num'],outputCols=['month_vec'],dropLast=True)\n",
    "vector_assember = VectorAssembler(inputCols=features,outputCol='features')\n",
    "random_forest = RandomForestRegressor(featuresCol='features',labelCol='area')\n",
    "stages =  [string_indexer, one_hot_encoder, vector_assember,random_forest]\n",
    "\n",
    "# instantiating the pipeline with all them estimator objects\n",
    "pipeline = Pipeline(stages=stages)"
   ]
  },
  {
   "cell_type": "markdown",
   "metadata": {},
   "source": [
    "### Cross Validation\n",
    "You might have missed a critical step in the Random Forest Regression above; we did not cross validate or perform a train/test split! Now we're going to fix that by performing cross validation and also testing out multiple different combinations of parameters in pyspark's GridSearch equivalent. To begin with, we will create a parameter grid that contains the different parameters we want to use in our model."
   ]
  },
  {
   "cell_type": "code",
   "execution_count": 35,
   "metadata": {},
   "outputs": [],
   "source": [
    "# creating parameter grid\n",
    "\n",
    "params = ParamGridBuilder()\\\n",
    ".addGrid(random_forest.maxDepth, [5,10,15])\\\n",
    ".addGrid(random_forest.numTrees, [20,50,100])\\\n",
    ".build()"
   ]
  },
  {
   "cell_type": "markdown",
   "metadata": {},
   "source": [
    "Let's take a look at the params variable we just built."
   ]
  },
  {
   "cell_type": "code",
   "execution_count": 36,
   "metadata": {},
   "outputs": [
    {
     "name": "stdout",
     "output_type": "stream",
     "text": [
      "total combinations of parameters:  9\n"
     ]
    },
    {
     "data": {
      "text/plain": [
       "{Param(parent='RandomForestRegressor_4db3a47921a1382190cd', name='maxDepth', doc='Maximum depth of the tree. (>= 0) E.g., depth 0 means 1 leaf node; depth 1 means 1 internal node + 2 leaf nodes.'): 5,\n",
       " Param(parent='RandomForestRegressor_4db3a47921a1382190cd', name='numTrees', doc='Number of trees to train (>= 1).'): 20}"
      ]
     },
     "execution_count": 36,
     "metadata": {},
     "output_type": "execute_result"
    }
   ],
   "source": [
    "print('total combinations of parameters: ',len(params))\n",
    "\n",
    "params[0]"
   ]
  },
  {
   "cell_type": "markdown",
   "metadata": {},
   "source": [
    "Now it's time to combine all the steps we've created to work in a single line of code with the CrossValidator estimator."
   ]
  },
  {
   "cell_type": "code",
   "execution_count": 37,
   "metadata": {},
   "outputs": [],
   "source": [
    "## instantiating the evaluator by which we will measure our model's performance\n",
    "reg_evaluator = RegressionEvaluator(predictionCol='prediction', labelCol='area',metricName = 'mae')\n",
    "## instantiating crossvalidator estimator\n",
    "cv = CrossValidator(estimator=pipeline, estimatorParamMaps=params,evaluator=reg_evaluator,parallelism=4)"
   ]
  },
  {
   "cell_type": "code",
   "execution_count": 38,
   "metadata": {},
   "outputs": [],
   "source": [
    "## fitting crossvalidator\n",
    "cross_validated_model = cv.fit(fire_df)"
   ]
  },
  {
   "cell_type": "markdown",
   "metadata": {},
   "source": [
    "Now, let's see how well the model performed! Let's take a look at the average performance for each one of our 9 models. It looks like the optimal performance is an MAE around 23. Note that this is worse than our original model, but that's because our original model had substantial data leakage. We didn't do a train-test-split!"
   ]
  },
  {
   "cell_type": "code",
   "execution_count": 39,
   "metadata": {
    "scrolled": true
   },
   "outputs": [
    {
     "data": {
      "text/plain": [
       "[22.692019327283138,\n",
       " 22.99290558885901,\n",
       " 21.75767666249615,\n",
       " 23.73460352694882,\n",
       " 23.51470661266113,\n",
       " 22.213816615833665,\n",
       " 23.831395507010793,\n",
       " 23.630131822962525,\n",
       " 22.264771588623375]"
      ]
     },
     "execution_count": 39,
     "metadata": {},
     "output_type": "execute_result"
    }
   ],
   "source": [
    "cross_validated_model.avgMetrics"
   ]
  },
  {
   "cell_type": "markdown",
   "metadata": {},
   "source": [
    "Now, let's take a look at the optimal parameters of our best performing model. The cross_validated_model variable is now saved as the best performing model from the grid search just performed. Let's look to see how well the predictions performed. As you can see, this dataset has a large number of areas of \"0.0\" burned. Perhaps, it would be better to investigate this problem as classification task."
   ]
  },
  {
   "cell_type": "code",
   "execution_count": 40,
   "metadata": {},
   "outputs": [
    {
     "name": "stdout",
     "output_type": "stream",
     "text": [
      "+------------------+-------+\n",
      "|        prediction|   area|\n",
      "+------------------+-------+\n",
      "| 7.100449250093918|    0.0|\n",
      "| 6.329025486243283|    0.0|\n",
      "|6.2857469188185915|    0.0|\n",
      "|7.5933126148034304|    0.0|\n",
      "| 6.231314264078399|    0.0|\n",
      "| 9.503843005958707|    0.0|\n",
      "|19.881573717656202|    0.0|\n",
      "| 7.280707629414105|    0.0|\n",
      "|11.119455564239933|    0.0|\n",
      "|17.149194738494558|    0.0|\n",
      "| 8.101320247937082|    0.0|\n",
      "|6.9044516704314844|    0.0|\n",
      "| 7.231903493447473|    0.0|\n",
      "|  9.86584096523932|    0.0|\n",
      "| 61.04180198158431|    0.0|\n",
      "| 8.488386677044286|    0.0|\n",
      "| 5.656956468779599|    0.0|\n",
      "| 7.901871325260197|    0.0|\n",
      "| 5.276142866785552|    0.0|\n",
      "| 6.345659968895647|    0.0|\n",
      "| 11.84113334516784|    0.0|\n",
      "| 5.072105370355027|    0.0|\n",
      "| 6.973167887886957|    0.0|\n",
      "|10.353204479628452|    0.0|\n",
      "|   7.4602566505675|    0.0|\n",
      "|6.5820864230510425|    0.0|\n",
      "|  8.17490046852117|    0.0|\n",
      "|10.626797338224044|    0.0|\n",
      "| 46.02630026242872|    0.0|\n",
      "|10.166730040391695|    0.0|\n",
      "|27.146709209437546|    0.0|\n",
      "| 6.966799072311349|    0.0|\n",
      "|  8.11626307208421|    0.0|\n",
      "| 5.439542310384569|    0.0|\n",
      "| 4.895391939686603|    0.0|\n",
      "| 6.696759050770261|    0.0|\n",
      "| 7.528165232070547|    0.0|\n",
      "| 5.822227886091439|    0.0|\n",
      "| 6.678710357495442|    0.0|\n",
      "| 5.425840893851139|    0.0|\n",
      "| 25.86721944448688|    0.0|\n",
      "| 6.249452574077862|    0.0|\n",
      "| 4.622097972727356|    0.0|\n",
      "| 7.362902228635849|    0.0|\n",
      "|  6.66240602247443|    0.0|\n",
      "|  71.7146308097191|    0.0|\n",
      "| 8.693017713265647|    0.0|\n",
      "| 5.073899176531336|    0.0|\n",
      "| 4.953363363094199|    0.0|\n",
      "| 6.921221602310698|    0.0|\n",
      "|11.303926049936212|    0.0|\n",
      "| 5.013165968777228|    0.0|\n",
      "| 4.295139851766004|    0.0|\n",
      "| 4.295139851766004|    0.0|\n",
      "| 4.690273155419559|    0.0|\n",
      "|10.306154824553344|    0.0|\n",
      "| 6.019049848237943|    0.0|\n",
      "|  5.12536545949031|    0.0|\n",
      "| 4.681847331737386|    0.0|\n",
      "| 4.624252277416517|    0.0|\n",
      "|3.9281747151294595|    0.0|\n",
      "| 4.337524692170501|    0.0|\n",
      "| 7.485345924938847|    0.0|\n",
      "| 4.654086698715685|    0.0|\n",
      "| 6.975636001902659|    0.0|\n",
      "|10.810096178532097|    0.0|\n",
      "| 8.450780769387558|    0.0|\n",
      "|10.171902961640196|    0.0|\n",
      "|10.420802192873852|    0.0|\n",
      "| 4.842594691665265|    0.0|\n",
      "|5.1703734220704805|    0.0|\n",
      "| 5.210535855821089|    0.0|\n",
      "| 5.132862706879212|    0.0|\n",
      "|10.622431695425567|    0.0|\n",
      "| 6.091782183586295|    0.0|\n",
      "| 8.674669061166123|    0.0|\n",
      "| 9.992036122483356|    0.0|\n",
      "| 6.660357382122063|    0.0|\n",
      "|4.7778828900924015|    0.0|\n",
      "| 23.83541509451415|    0.0|\n",
      "|10.803620210991928|    0.0|\n",
      "| 7.649063837483826|    0.0|\n",
      "|  7.13882987134132|    0.0|\n",
      "| 4.578566280371522|    0.0|\n",
      "| 8.488069282814102|    0.0|\n",
      "|10.822049401222635|    0.0|\n",
      "| 6.260331712133749|    0.0|\n",
      "| 10.93753868563672|    0.0|\n",
      "|14.625896360027737|    0.0|\n",
      "| 4.960481193629052|    0.0|\n",
      "| 5.234556043144365|    0.0|\n",
      "| 6.012507827448409|    0.0|\n",
      "| 14.46485350457554|    0.0|\n",
      "|15.344293467975078|    0.0|\n",
      "|20.058493300653808|    0.0|\n",
      "| 5.219983552770337|    0.0|\n",
      "| 4.704232141356683|    0.0|\n",
      "| 5.077804514360988|    0.0|\n",
      "|5.6909884374959345|    0.0|\n",
      "| 5.746659119994579|    0.0|\n",
      "| 5.746659119994579|    0.0|\n",
      "|7.4733942222324465|    0.0|\n",
      "| 3.996603387434346|    0.0|\n",
      "|22.552664610779562|    0.0|\n",
      "| 5.050599000210284|    0.0|\n",
      "| 6.115326725696012|    0.0|\n",
      "| 6.244690839684776|    0.0|\n",
      "|7.7513838701703675|    0.0|\n",
      "| 8.230000454547685|    0.0|\n",
      "| 5.944141774815046|    0.0|\n",
      "| 6.713595070528162|    0.0|\n",
      "| 4.103155764199948|    0.0|\n",
      "| 7.523330692569596|    0.0|\n",
      "| 5.144767698606991|    0.0|\n",
      "| 5.659863096226432|    0.0|\n",
      "|  5.76548226576243|    0.0|\n",
      "|5.5392157362960255|    0.0|\n",
      "| 6.040311081970276|    0.0|\n",
      "|  4.72649461635972|    0.0|\n",
      "| 5.301184872773998|    0.0|\n",
      "| 5.318656115793643|    0.0|\n",
      "| 5.715018092698078|    0.0|\n",
      "|7.9849859659504405|    0.0|\n",
      "| 7.053606235932927|    0.0|\n",
      "| 5.535263327886152|    0.0|\n",
      "| 7.807145478337959|    0.0|\n",
      "| 4.735761777961728|    0.0|\n",
      "|10.018259821050323|    0.0|\n",
      "| 5.863230321256752|    0.0|\n",
      "| 5.596620550991642|    0.0|\n",
      "|5.5036613272246795|    0.0|\n",
      "| 5.102400635625883|    0.0|\n",
      "|5.1237995876124645|    0.0|\n",
      "|6.4532531005306994|    0.0|\n",
      "| 4.385714296025399|    0.0|\n",
      "|  6.05565321865615|    0.0|\n",
      "|11.196262408305747|    0.0|\n",
      "| 8.679299884922493|    0.0|\n",
      "|17.934301181697524|   0.36|\n",
      "|15.433987202813485|   0.43|\n",
      "|10.841839635553495|   0.47|\n",
      "|4.2198062116335056|   0.55|\n",
      "| 20.99473462283787|   0.61|\n",
      "| 7.294185490103348|   0.71|\n",
      "| 4.095360566548178|   0.77|\n",
      "|27.305013521916916|    0.9|\n",
      "| 5.469318979493656|   0.95|\n",
      "|20.345682705054536|   0.96|\n",
      "| 4.629386217314927|   1.07|\n",
      "| 8.662877287211932|   1.12|\n",
      "| 7.439927658772081|   1.19|\n",
      "|18.929286735644542|   1.36|\n",
      "| 6.842586324268109|   1.43|\n",
      "| 6.163413376077684|   1.46|\n",
      "| 21.46212110317302|   1.46|\n",
      "|   5.1681881718295|   1.56|\n",
      "|10.662993731867093|   1.61|\n",
      "|  9.31579535766795|   1.63|\n",
      "| 3.379898119953403|   1.64|\n",
      "|  8.17490046852117|   1.69|\n",
      "| 5.856321087053046|   1.75|\n",
      "| 6.191359645523288|    1.9|\n",
      "| 7.568894151879123|   1.94|\n",
      "|25.595047448712002|   1.95|\n",
      "|  5.84283860107011|   2.01|\n",
      "| 5.869555520492934|   2.14|\n",
      "| 4.136385175241743|   2.29|\n",
      "| 5.437810436646471|   2.51|\n",
      "| 9.940116314151105|   2.53|\n",
      "| 7.271272948228257|   2.55|\n",
      "| 6.939392912214788|   2.57|\n",
      "| 6.766924331722581|   2.69|\n",
      "|  8.85082758507536|   2.74|\n",
      "| 9.751879838752394|   3.07|\n",
      "|3.5086610766638064|    3.5|\n",
      "| 4.408980376906173|   4.53|\n",
      "| 6.585652690023418|   4.61|\n",
      "| 4.957562328328267|   4.69|\n",
      "| 6.171828373449757|   4.88|\n",
      "|12.373413928353795|   5.23|\n",
      "| 12.12622747582432|   5.33|\n",
      "| 12.37366235958869|   5.44|\n",
      "|  5.53466563773221|   6.38|\n",
      "| 9.028525286293604|   6.83|\n",
      "| 8.612386584499419|   6.96|\n",
      "| 9.806212812478254|   7.04|\n",
      "|12.390469487091352|   7.19|\n",
      "|13.324380266829241|    7.3|\n",
      "| 5.240635580444434|    7.4|\n",
      "| 6.340684832051448|   8.24|\n",
      "|5.5031006637662765|   8.31|\n",
      "| 6.756284512885327|   8.68|\n",
      "| 7.645539057608801|   8.71|\n",
      "|19.756355723927673|   9.41|\n",
      "| 7.645539057608801|  10.01|\n",
      "| 5.212734449114215|  10.02|\n",
      "| 6.585652690023418|  10.93|\n",
      "|11.777726750419307|  11.06|\n",
      "| 8.942723220755147|  11.24|\n",
      "|11.345110974082006|  11.32|\n",
      "|15.226481557905323|  11.53|\n",
      "| 5.431429456061093|   12.1|\n",
      "| 5.739615669445284|  13.05|\n",
      "|13.093951191212843|   13.7|\n",
      "| 5.814064172268612|  13.99|\n",
      "| 7.584489108710756|  14.57|\n",
      "|7.4416040578797595|  15.45|\n",
      "| 11.64524899421403|   17.2|\n",
      "|7.5848814205733746|  19.23|\n",
      "|10.387748600549052|  23.41|\n",
      "| 8.238152214427172|  24.23|\n",
      "|10.616851167764505|   26.0|\n",
      "| 7.269807408346524|  26.13|\n",
      "| 8.175716130414095|  27.35|\n",
      "| 6.830144118906803|  28.66|\n",
      "| 6.830144118906803|  28.66|\n",
      "|23.029939442366512|  29.48|\n",
      "| 8.786069532360905|  30.32|\n",
      "|14.289718158048409|  31.72|\n",
      "| 6.850589248832495|  31.86|\n",
      "| 7.758531072632805|  32.07|\n",
      "| 9.959502749713508|  35.88|\n",
      "| 6.924943465454832|  36.85|\n",
      "| 22.39254234007707|  37.02|\n",
      "| 7.925324567376545|  37.71|\n",
      "|11.127485404446151|  48.55|\n",
      "|11.221157104646476|  49.37|\n",
      "| 16.43948467948461|   58.3|\n",
      "| 53.84375521892401|   64.1|\n",
      "| 17.74557166391077|   71.3|\n",
      "|40.071509981384246|  88.49|\n",
      "|  45.6102528576853|  95.18|\n",
      "|14.855479084883378| 103.39|\n",
      "| 48.80799512404707| 105.66|\n",
      "|106.83450531242131| 154.88|\n",
      "| 38.25980009365937| 196.48|\n",
      "| 83.27985573796573| 200.94|\n",
      "| 74.23322506406934| 212.88|\n",
      "|   657.76726732383|1090.84|\n",
      "| 5.542981032713149|    0.0|\n",
      "| 7.163684724339429|    0.0|\n",
      "| 6.292692013514795|    0.0|\n",
      "| 5.239774830888478|  10.13|\n",
      "|  5.83210518582317|    0.0|\n",
      "| 6.453796574061019|   2.87|\n",
      "|5.4087952821167615|   0.76|\n",
      "|4.6994772084564636|   0.09|\n",
      "| 3.850420576745567|   0.75|\n",
      "|14.110401897959514|    0.0|\n",
      "| 4.819956609218735|   2.47|\n",
      "|40.342063092364725|   0.68|\n",
      "| 6.102676234277047|   0.24|\n",
      "| 4.637275714163025|   0.21|\n",
      "| 5.103375716298627|   1.52|\n",
      "| 9.750140839293481|  10.34|\n",
      "| 7.245829418006586|    0.0|\n",
      "| 7.519133980485911|   8.02|\n",
      "|  5.38972594470606|   0.68|\n",
      "| 5.700892589137636|    0.0|\n",
      "| 5.147909155009395|   1.38|\n",
      "| 6.313139433646153|   8.85|\n",
      "| 5.109769263356273|    3.3|\n",
      "| 4.483783351024762|   4.25|\n",
      "| 7.681293291795142|   1.56|\n",
      "| 5.744841137739331|   6.54|\n",
      "| 4.836702503626425|   0.79|\n",
      "| 6.589432940374435|   0.17|\n",
      "| 6.954206755537839|    0.0|\n",
      "| 4.390947168363254|    0.0|\n",
      "|5.0885856686183075|    4.4|\n",
      "| 6.608697781554784|   0.52|\n",
      "| 9.903069776402774|   9.27|\n",
      "|4.8023728267909265|   3.09|\n",
      "| 8.195073858888364|   8.98|\n",
      "|  12.6525370887747|  11.19|\n",
      "|6.7447992152295715|   5.38|\n",
      "|11.074900373878663|  17.85|\n",
      "| 10.31350043964992|  10.73|\n",
      "|11.074900373878663|  22.03|\n",
      "|11.074900373878663|   9.77|\n",
      "| 6.683380341603197|   9.27|\n",
      "| 11.18096893695042|  24.77|\n",
      "| 5.764024133872799|    0.0|\n",
      "| 4.891859967125706|    1.1|\n",
      "| 7.878436496951975|  24.24|\n",
      "| 7.135926606990766|    0.0|\n",
      "|13.989644112719969|    0.0|\n",
      "| 7.257510879393076|    0.0|\n",
      "|7.0996295257062005|    0.0|\n",
      "| 7.061818014914833|    0.0|\n",
      "| 7.457484128295864|    0.0|\n",
      "|24.660424697751186|    8.0|\n",
      "| 4.877961110008713|   2.64|\n",
      "|  47.5685164058837|  86.45|\n",
      "| 6.721145734191943|   6.57|\n",
      "|11.805897965237282|    0.0|\n",
      "| 5.207581444068171|    0.9|\n",
      "| 6.905369708461223|    0.0|\n",
      "|16.990850143370483|    0.0|\n",
      "| 5.222841507638474|    0.0|\n",
      "+------------------+-------+\n",
      "only showing top 300 rows\n",
      "\n"
     ]
    }
   ],
   "source": [
    "predictions = cross_validated_model.transform(spark_df)\n",
    "predictions.select('prediction','area').show(300)"
   ]
  },
  {
   "cell_type": "markdown",
   "metadata": {},
   "source": [
    "Now let's go ahead and take a look at the feature importances of our Random Forest model. In order to do this, we need to unroll our pipeline to access the Random Forest Model. Let's start by first checking out the \"bestModel\" attribute of our cross_validated_model."
   ]
  },
  {
   "cell_type": "code",
   "execution_count": 41,
   "metadata": {
    "slideshow": {
     "slide_type": "slide"
    }
   },
   "outputs": [
    {
     "data": {
      "text/plain": [
       "pyspark.ml.pipeline.PipelineModel"
      ]
     },
     "execution_count": 41,
     "metadata": {},
     "output_type": "execute_result"
    }
   ],
   "source": [
    "type(cross_validated_model.bestModel)"
   ]
  },
  {
   "cell_type": "markdown",
   "metadata": {},
   "source": [
    "`ml` is treating the entire pipeline as the best performing model, so we need to go deeper into the pipeline to access the Random Forest model within it. Previously, we put the Random Forest Model as the final \"stage\" in the stages variable list. Let's look at the stages attribute of the bestModel."
   ]
  },
  {
   "cell_type": "code",
   "execution_count": 42,
   "metadata": {},
   "outputs": [
    {
     "data": {
      "text/plain": [
       "[StringIndexer_419282fc8a3fd67df301,\n",
       " OneHotEncoderEstimator_4546abf1bf645cc67301,\n",
       " VectorAssembler_4bbd95b5d9e42fccb7e0,\n",
       " RandomForestRegressionModel (uid=RandomForestRegressor_4db3a47921a1382190cd) with 100 trees]"
      ]
     },
     "execution_count": 42,
     "metadata": {},
     "output_type": "execute_result"
    }
   ],
   "source": [
    "cross_validated_model.bestModel.stages"
   ]
  },
  {
   "cell_type": "markdown",
   "metadata": {},
   "source": [
    "Perfect! There's the RandomForestRegressionModel, represented by the last item in the stages list. Now, we should be able to access all the attributes of the Random Forest Regressor."
   ]
  },
  {
   "cell_type": "code",
   "execution_count": 43,
   "metadata": {},
   "outputs": [],
   "source": [
    "optimal_rf_model = cross_validated_model.bestModel.stages[3]"
   ]
  },
  {
   "cell_type": "code",
   "execution_count": 57,
   "metadata": {},
   "outputs": [
    {
     "data": {
      "text/plain": [
       "SparseVector(22, {0: 0.086, 1: 0.0846, 2: 0.119, 3: 0.1334, 4: 0.128, 5: 0.0768, 6: 0.1148, 7: 0.0941, 8: 0.1085, 9: 0.0, 10: 0.0068, 11: 0.036, 12: 0.0002, 13: 0.0097, 14: 0.0003, 15: 0.0004, 16: 0.0001, 17: 0.0007, 18: 0.0001, 20: 0.0006})"
      ]
     },
     "execution_count": 57,
     "metadata": {},
     "output_type": "execute_result"
    }
   ],
   "source": [
    "optimal_rf_model.featureImportances"
   ]
  },
  {
   "cell_type": "code",
   "execution_count": 58,
   "metadata": {},
   "outputs": [
    {
     "data": {
      "text/plain": [
       "100"
      ]
     },
     "execution_count": 58,
     "metadata": {},
     "output_type": "execute_result"
    }
   ],
   "source": [
    "optimal_rf_model.getNumTrees"
   ]
  },
  {
   "cell_type": "markdown",
   "metadata": {},
   "source": [
    "## Summary\n",
    "\n",
    "In this lesson, you have learned about pyspark's DataFrames, machine learning models, and pipelines. With the use of a pipeline, you can train a huge number of models simultaneously, saving you a substantial amount of time and effort. Up next, you will have a chance to build a pyspark machine learning pipeline of your own with a classification problem!"
   ]
  }
 ],
 "metadata": {
  "kernelspec": {
   "display_name": "Python 3",
   "language": "python",
   "name": "python3"
  },
  "language_info": {
   "codemirror_mode": {
    "name": "ipython",
    "version": 3
   },
   "file_extension": ".py",
   "mimetype": "text/x-python",
   "name": "python",
   "nbconvert_exporter": "python",
   "pygments_lexer": "ipython3",
   "version": "3.6.5"
  }
 },
 "nbformat": 4,
 "nbformat_minor": 2
}
